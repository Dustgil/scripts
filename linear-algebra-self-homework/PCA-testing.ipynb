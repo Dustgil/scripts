{
 "cells": [
  {
   "cell_type": "markdown",
   "metadata": {},
   "source": [
    "# Experiments with Principal Component Analysis (PCA)"
   ]
  },
  {
   "cell_type": "markdown",
   "metadata": {},
   "source": [
    "Principal component analysis is a statistical tool to help determine the dimensions of a dataset along which the largest variance occurs, and therefore reduce the relevant dimensionality by a significant margin. Here I am performing the technique on a randomized set of points in R^2 that has then been scaled in both the x and y directions, shifted from the origin by some amount, and rotated through an angle. The data will thus take on the appearance of an ellipse in R^2. If The technique works correctly, PCA will determine the directions of largest variance in the dataset. These should be the major and minor axes of the ellipse. \n",
    "\n",
    "The matrix is constructed element-wise in a similar way to constructing scalar variance "
   ]
  },
  {
   "cell_type": "code",
   "execution_count": 3,
   "metadata": {},
   "outputs": [],
   "source": [
    "import numpy as np\n",
    "import matplotlib.pyplot as plt\n",
    "\n",
    "# initialize values\n",
    "\n",
    "avg = np.array([3,4]) # amount to shift randomize data by (artificial mean)\n",
    "scale_factors = np.array([2,0.7]) # scaling in x and y of data\n",
    "angle = np.pi / 4 # rotation of data\n"
   ]
  },
  {
   "cell_type": "code",
   "execution_count": null,
   "metadata": {},
   "outputs": [],
   "source": []
  }
 ],
 "metadata": {
  "kernelspec": {
   "display_name": "Python 3",
   "language": "python",
   "name": "python3"
  },
  "language_info": {
   "codemirror_mode": {
    "name": "ipython",
    "version": 3
   },
   "file_extension": ".py",
   "mimetype": "text/x-python",
   "name": "python",
   "nbconvert_exporter": "python",
   "pygments_lexer": "ipython3",
   "version": "3.7.6"
  }
 },
 "nbformat": 4,
 "nbformat_minor": 4
}
