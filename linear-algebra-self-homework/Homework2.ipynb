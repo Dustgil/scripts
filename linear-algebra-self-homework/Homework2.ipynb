{
 "cells": [
  {
   "cell_type": "code",
   "execution_count": 19,
   "metadata": {},
   "outputs": [],
   "source": [
    "import numpy as np\n",
    "\n",
    "def LU(A):\n",
    "    U = np.copy(A).astype('float32')\n",
    "    m, n = A.shape\n",
    "    L = np.eye(n).astype('float32')\n",
    "    for k in range(n-1):\n",
    "        for j in range(k+1,n):\n",
    "            L[j,k] = U[j,k]/U[k,k]\n",
    "            U[j,k:n] -= L[j,k] * U[k,k:n]\n",
    "    return L, U"
   ]
  },
  {
   "cell_type": "markdown",
   "metadata": {},
   "source": [
    "Next we define in-place LU factorization."
   ]
  },
  {
   "cell_type": "code",
   "execution_count": 26,
   "metadata": {},
   "outputs": [],
   "source": [
    "def LU_inplace(A):\n",
    "    A = A.astype('float32')\n",
    "    m, n = A.shape\n",
    "    for k in range(n-1):\n",
    "        for j in range(k+1,n):\n",
    "            A[j,k] = A[j,k]/A[k,k]\n",
    "            A[j,(k+1):n] -= A[j,k] * A[k,(k+1):n]\n",
    "    return A"
   ]
  },
  {
   "cell_type": "markdown",
   "metadata": {},
   "source": [
    "Both of these functions allow us to compute the LU factorization. However, where the first creates and stores in memory two matrices, L and U, the second function stores the two matrices in the previously allocated memory address for the input matrix. The ones for L do not need to be stored, they are assumed. Do not use this if you still have use for your input matrix after computing the decomposition."
   ]
  },
  {
   "cell_type": "code",
   "execution_count": 32,
   "metadata": {},
   "outputs": [
    {
     "name": "stdout",
     "output_type": "stream",
     "text": [
      "[[ 1.  2.  3.]\n",
      " [ 0. -3. -6.]\n",
      " [ 0.  0.  0.]]\n",
      "[[1. 0. 0.]\n",
      " [4. 1. 0.]\n",
      " [7. 2. 1.]]\n"
     ]
    }
   ],
   "source": [
    "x = np.array([[1,2,3],[4,5,6],[7,8,9]])\n",
    "\n",
    "L, U = LU(x)\n",
    "print(U)\n",
    "print(L)\n"
   ]
  },
  {
   "cell_type": "code",
   "execution_count": 33,
   "metadata": {},
   "outputs": [
    {
     "name": "stdout",
     "output_type": "stream",
     "text": [
      "[[ 1.  2.  3.]\n",
      " [ 4. -3. -6.]\n",
      " [ 7.  2.  0.]]\n"
     ]
    }
   ],
   "source": [
    "A = LU_inplace(x)\n",
    "print(A)"
   ]
  },
  {
   "cell_type": "markdown",
   "metadata": {},
   "source": [
    "We see that this holds the same information as the original function outputs.\n",
    "\n",
    "Unfortunately, LU factorization like this is unstable for many matrices. The problem lies in Gaussian elimination. The introduction of partial pivoting results in a more stable algorithm. For each column to be reduced, the element that is largest at or below current eliminate is used. That row and the original row are swapped using a row-swap operation."
   ]
  },
  {
   "cell_type": "code",
   "execution_count": 147,
   "metadata": {},
   "outputs": [],
   "source": [
    "def swap(a,b): # used to swap rows in the algorithm.\n",
    "    temp = np.copy(a)\n",
    "    a[:] = b\n",
    "    b[:] = temp\n",
    "    return a,b\n",
    "\n",
    "def LU_pivot(A):\n",
    "    U = np.copy(A).astype('float32')\n",
    "    m,n = A.shape\n",
    "    \n",
    "    L = np.eye(n).astype('float32')\n",
    "    P = np.eye(n).astype('float32')\n",
    "    \n",
    "    for k in range(n-1):\n",
    "        i = k\n",
    "        for l in range(k+1,m):\n",
    "            if abs(U[l,k]) > abs(U[i,k]):            # check magnitudes of elements from U[k,k] to U[m,k]\n",
    "                i = l\n",
    "                \n",
    "        U[k,k:n], U[i,k:n] = swap(U[k,k:n],U[i,k:n]) # apply partial pivoting by swapping rows in U and L\n",
    "        L[k,0:k], L[i,0:k] = swap(L[k,0:k],L[i,0:k])\n",
    "        \n",
    "        for j in range(k+1,m):                       # original gaussian elimination algorithm, applied for each column after\n",
    "            L[j,k] = U[j,k] / U[k,k]                 # pivoting for that column is performed.\n",
    "            U[j,k:n] -= L[j,k] * U[k,k:n]\n",
    "        \n",
    "            \n",
    "    return L, U\n",
    "    \n",
    "    \n",
    "    \n",
    "    "
   ]
  },
  {
   "cell_type": "code",
   "execution_count": 148,
   "metadata": {},
   "outputs": [],
   "source": [
    "A = np.array([[2,1,1,0],\n",
    "             [4,3,3,1],\n",
    "             [8,7,9,5],\n",
    "             [6,7,9,8]])\n",
    "L, U = LU_pivot(A)"
   ]
  },
  {
   "cell_type": "code",
   "execution_count": 149,
   "metadata": {},
   "outputs": [
    {
     "name": "stdout",
     "output_type": "stream",
     "text": [
      "[[ 1.          0.          0.          0.        ]\n",
      " [ 0.75        1.          0.          0.        ]\n",
      " [ 0.5        -0.2857143   1.          0.        ]\n",
      " [ 0.25       -0.42857143  0.33333334  1.        ]]\n"
     ]
    }
   ],
   "source": [
    "print(L)"
   ]
  },
  {
   "cell_type": "code",
   "execution_count": 150,
   "metadata": {},
   "outputs": [
    {
     "name": "stdout",
     "output_type": "stream",
     "text": [
      "[[ 8.          7.          9.          5.        ]\n",
      " [ 0.          1.75        2.25        4.25      ]\n",
      " [ 0.          0.         -0.8571428  -0.28571427]\n",
      " [ 0.          0.          0.          0.6666666 ]]\n"
     ]
    }
   ],
   "source": [
    "print(U)"
   ]
  },
  {
   "cell_type": "code",
   "execution_count": null,
   "metadata": {},
   "outputs": [],
   "source": []
  },
  {
   "cell_type": "code",
   "execution_count": null,
   "metadata": {},
   "outputs": [],
   "source": []
  }
 ],
 "metadata": {
  "kernelspec": {
   "display_name": "Python 3",
   "language": "python",
   "name": "python3"
  },
  "language_info": {
   "codemirror_mode": {
    "name": "ipython",
    "version": 3
   },
   "file_extension": ".py",
   "mimetype": "text/x-python",
   "name": "python",
   "nbconvert_exporter": "python",
   "pygments_lexer": "ipython3",
   "version": "3.7.6"
  }
 },
 "nbformat": 4,
 "nbformat_minor": 4
}
